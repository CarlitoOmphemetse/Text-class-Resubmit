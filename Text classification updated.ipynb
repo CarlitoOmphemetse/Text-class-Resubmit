{
 "cells": [
  {
   "cell_type": "markdown",
   "metadata": {},
   "source": [
    "# OMPHEMETSE MANGOPE \n",
    "Advanced Machine Learning                     \n",
    "Text Classification Project                   \n",
    "Due Date: 27 July 2020\n"
   ]
  },
  {
   "cell_type": "code",
   "execution_count": 162,
   "metadata": {},
   "outputs": [
    {
     "data": {
      "text/html": [
       "<div>\n",
       "<style scoped>\n",
       "    .dataframe tbody tr th:only-of-type {\n",
       "        vertical-align: middle;\n",
       "    }\n",
       "\n",
       "    .dataframe tbody tr th {\n",
       "        vertical-align: top;\n",
       "    }\n",
       "\n",
       "    .dataframe thead th {\n",
       "        text-align: right;\n",
       "    }\n",
       "</style>\n",
       "<table border=\"1\" class=\"dataframe\">\n",
       "  <thead>\n",
       "    <tr style=\"text-align: right;\">\n",
       "      <th></th>\n",
       "      <th>Id</th>\n",
       "      <th>Review</th>\n",
       "      <th>Label</th>\n",
       "    </tr>\n",
       "  </thead>\n",
       "  <tbody>\n",
       "    <tr>\n",
       "      <td>0</td>\n",
       "      <td>0</td>\n",
       "      <td>good and interesting</td>\n",
       "      <td>5</td>\n",
       "    </tr>\n",
       "    <tr>\n",
       "      <td>1</td>\n",
       "      <td>1</td>\n",
       "      <td>This class is very helpful to me. Currently, I...</td>\n",
       "      <td>5</td>\n",
       "    </tr>\n",
       "    <tr>\n",
       "      <td>2</td>\n",
       "      <td>2</td>\n",
       "      <td>like!Prof and TAs are helpful and the discussi...</td>\n",
       "      <td>5</td>\n",
       "    </tr>\n",
       "    <tr>\n",
       "      <td>3</td>\n",
       "      <td>3</td>\n",
       "      <td>Easy to follow and includes a lot basic and im...</td>\n",
       "      <td>5</td>\n",
       "    </tr>\n",
       "    <tr>\n",
       "      <td>4</td>\n",
       "      <td>4</td>\n",
       "      <td>Really nice teacher!I could got the point eazl...</td>\n",
       "      <td>4</td>\n",
       "    </tr>\n",
       "  </tbody>\n",
       "</table>\n",
       "</div>"
      ],
      "text/plain": [
       "   Id                                             Review  Label\n",
       "0   0                               good and interesting      5\n",
       "1   1  This class is very helpful to me. Currently, I...      5\n",
       "2   2  like!Prof and TAs are helpful and the discussi...      5\n",
       "3   3  Easy to follow and includes a lot basic and im...      5\n",
       "4   4  Really nice teacher!I could got the point eazl...      4"
      ]
     },
     "execution_count": 162,
     "metadata": {},
     "output_type": "execute_result"
    }
   ],
   "source": [
    "import nltk\n",
    "import string\n",
    "import numpy as np\n",
    "import pandas as pd\n",
    "from sklearn.model_selection import train_test_split\n",
    "from sklearn.preprocessing import MultiLabelBinarizer\n",
    "\n",
    "data = pd.read_excel('reviews.xlsx')\n",
    "data.head()"
   ]
  },
  {
   "cell_type": "markdown",
   "metadata": {},
   "source": [
    "# Naive Bayes model building"
   ]
  },
  {
   "cell_type": "code",
   "execution_count": 163,
   "metadata": {},
   "outputs": [],
   "source": [
    "class NaiveBayes_classifer:\n",
    "    \n",
    "    def __init__(self):\n",
    "        self.N_c = None\n",
    "        self.π_c = None\n",
    "        self.Njc = None \n",
    "        self.lk_word = None\n",
    "        self.fitted = False\n",
    "        \n",
    "        \n",
    "    def fit(self, x, y):\n",
    "        M = np.c_[x, y]\n",
    "        N = x.shape[0]\n",
    "        self.N_c = np.array([M[y == c] for c in np.unique(y)])\n",
    "        self.π_c = np.array([len(Nc_class) / N for Nc_class in self.N_c])\n",
    "        self.Njc = np.array([njc.sum(axis=0) for njc in ([M[y == c] [:,:x.shape[1]] for c in np.unique(y)])])\n",
    "        self.lk_word = (self.Njc + 1) / self.Njc.sum(axis=1).reshape(-1, 1)\n",
    "        \n",
    "        self.fitted = True\n",
    "         \n",
    "        return(self)\n",
    "    \n",
    "    def predict(self, x):\n",
    "        \n",
    "        assert self.fitted\n",
    "    \n",
    "        class_values = np.zeros(shape=(x.shape[0], self.π_c.shape[0]))\n",
    "\n",
    "        for i,c in enumerate(x):\n",
    "            \n",
    "            word_exists = c.astype(bool)\n",
    "            lk_words_present = self.lk_word[:, word_exists] ** c[word_exists]\n",
    "            lk_message = (lk_words_present).prod(axis=1)\n",
    "            class_values[i] = lk_message * self.π_c\n",
    "        \n",
    "             \n",
    "        \n",
    "        return (class_values.argmax(axis=1) +1)\n",
    "    \n",
    "    def score(self, y,y_i):\n",
    "        n_correct = (y == y_i).sum()\n",
    "        n_incorrect = y_i.size - n_correct\n",
    "        incorrect_fraction = n_incorrect /(n_incorrect + n_correct)\n",
    "        return incorrect_fraction\n",
    "\n",
    "        #print(f'Number of correctly classified samples: {n_correct}')\n",
    "        #print(f\"Number of incorrectly classified samples: {n_incorrect}\")\n",
    "        #print(f'Classification accuracy is: {np.round(1-incorrect_fraction,2) * 100} %')"
   ]
  },
  {
   "cell_type": "markdown",
   "metadata": {},
   "source": [
    "# Exploratory Analysis"
   ]
  },
  {
   "cell_type": "code",
   "execution_count": 164,
   "metadata": {},
   "outputs": [
    {
     "data": {
      "text/plain": [
       "Id         int64\n",
       "Review    object\n",
       "Label      int64\n",
       "dtype: object"
      ]
     },
     "execution_count": 164,
     "metadata": {},
     "output_type": "execute_result"
    }
   ],
   "source": [
    "data.dtypes"
   ]
  },
  {
   "cell_type": "code",
   "execution_count": 165,
   "metadata": {},
   "outputs": [
    {
     "data": {
      "text/plain": [
       "(107018, 3)"
      ]
     },
     "execution_count": 165,
     "metadata": {},
     "output_type": "execute_result"
    }
   ],
   "source": [
    "data.shape"
   ]
  },
  {
   "cell_type": "code",
   "execution_count": 166,
   "metadata": {},
   "outputs": [
    {
     "data": {
      "text/plain": [
       "5    79173\n",
       "4    18054\n",
       "3     5071\n",
       "1     2469\n",
       "2     2251\n",
       "Name: Label, dtype: int64"
      ]
     },
     "execution_count": 166,
     "metadata": {},
     "output_type": "execute_result"
    }
   ],
   "source": [
    "# Number of documents per class\n",
    "data['Label'].value_counts()"
   ]
  },
  {
   "cell_type": "code",
   "execution_count": 167,
   "metadata": {},
   "outputs": [
    {
     "data": {
      "text/plain": [
       "Id        0\n",
       "Review    5\n",
       "Label     0\n",
       "dtype: int64"
      ]
     },
     "execution_count": 167,
     "metadata": {},
     "output_type": "execute_result"
    }
   ],
   "source": [
    "#Number of missing values\n",
    "data.isnull().sum()"
   ]
  },
  {
   "cell_type": "markdown",
   "metadata": {},
   "source": [
    "The data has 5 missing reviews, therefore we are going to drop them"
   ]
  },
  {
   "cell_type": "code",
   "execution_count": 168,
   "metadata": {},
   "outputs": [],
   "source": [
    "data=data.dropna() # documents where missing values exist are dropped "
   ]
  },
  {
   "cell_type": "code",
   "execution_count": 169,
   "metadata": {},
   "outputs": [
    {
     "data": {
      "text/plain": [
       "Id        0\n",
       "Review    0\n",
       "Label     0\n",
       "dtype: int64"
      ]
     },
     "execution_count": 169,
     "metadata": {},
     "output_type": "execute_result"
    }
   ],
   "source": [
    "data.isnull().sum() # Now the missing values are absent"
   ]
  },
  {
   "cell_type": "markdown",
   "metadata": {},
   "source": [
    "# Text preprocessing "
   ]
  },
  {
   "cell_type": "code",
   "execution_count": 170,
   "metadata": {},
   "outputs": [
    {
     "data": {
      "text/html": [
       "<div>\n",
       "<style scoped>\n",
       "    .dataframe tbody tr th:only-of-type {\n",
       "        vertical-align: middle;\n",
       "    }\n",
       "\n",
       "    .dataframe tbody tr th {\n",
       "        vertical-align: top;\n",
       "    }\n",
       "\n",
       "    .dataframe thead th {\n",
       "        text-align: right;\n",
       "    }\n",
       "</style>\n",
       "<table border=\"1\" class=\"dataframe\">\n",
       "  <thead>\n",
       "    <tr style=\"text-align: right;\">\n",
       "      <th></th>\n",
       "      <th>Id</th>\n",
       "      <th>Review</th>\n",
       "      <th>Label</th>\n",
       "      <th>tokens</th>\n",
       "    </tr>\n",
       "  </thead>\n",
       "  <tbody>\n",
       "    <tr>\n",
       "      <td>0</td>\n",
       "      <td>0</td>\n",
       "      <td>good and interesting</td>\n",
       "      <td>5</td>\n",
       "      <td>['good', 'and', 'interesting']</td>\n",
       "    </tr>\n",
       "    <tr>\n",
       "      <td>1</td>\n",
       "      <td>1</td>\n",
       "      <td>This class is very helpful to me. Currently, I...</td>\n",
       "      <td>5</td>\n",
       "      <td>['This', 'class', 'is', 'very', 'helpful', 'to...</td>\n",
       "    </tr>\n",
       "    <tr>\n",
       "      <td>2</td>\n",
       "      <td>2</td>\n",
       "      <td>like!Prof and TAs are helpful and the discussi...</td>\n",
       "      <td>5</td>\n",
       "      <td>['like', '!', 'Prof', 'and', 'TAs', 'are', 'he...</td>\n",
       "    </tr>\n",
       "  </tbody>\n",
       "</table>\n",
       "</div>"
      ],
      "text/plain": [
       "   Id                                             Review  Label  \\\n",
       "0   0                               good and interesting      5   \n",
       "1   1  This class is very helpful to me. Currently, I...      5   \n",
       "2   2  like!Prof and TAs are helpful and the discussi...      5   \n",
       "\n",
       "                                              tokens  \n",
       "0                     ['good', 'and', 'interesting']  \n",
       "1  ['This', 'class', 'is', 'very', 'helpful', 'to...  \n",
       "2  ['like', '!', 'Prof', 'and', 'TAs', 'are', 'he...  "
      ]
     },
     "execution_count": 170,
     "metadata": {},
     "output_type": "execute_result"
    }
   ],
   "source": [
    "# Tokenization aims at splitting the text input sequences in tokens, or single words/characters \n",
    "\n",
    "# Tokenization: word_tokenize is adopted from nltk lbrary\n",
    "data['tokens'] = data.apply(lambda row:nltk.word_tokenize(row['Review']), axis=1)\n",
    "\n",
    "# Converting the a sequence list into string type\n",
    "data['tokens'] = data['tokens'].astype(str)\n",
    "\n",
    "data.head(3)"
   ]
  },
  {
   "cell_type": "code",
   "execution_count": 171,
   "metadata": {},
   "outputs": [],
   "source": [
    "# nltk corpus has a list of words called stopwords which aims to remove words with less contribution,\n",
    "# for making predictions\n",
    "stop_words = nltk.corpus.stopwords.words(\"english\") + list(string.punctuation)\n",
    "\n",
    "X = []\n",
    "\n",
    "for w in data['tokens']:\n",
    "    if w not in stop_words:\n",
    "        X.append(w)"
   ]
  },
  {
   "cell_type": "code",
   "execution_count": 172,
   "metadata": {},
   "outputs": [],
   "source": [
    "# Stemming aims at removing and replacing suffixes of words to get to its root form, this is done \n",
    "# using some rules embedded on the stemmer. However, different stemmers exist, PorterStemmer() is one:\n",
    "\n",
    "ps = nltk.stem.PorterStemmer()\n",
    "\n",
    "X_ = []\n",
    "\n",
    "for w in X:\n",
    "    X_.append(ps.stem(w))"
   ]
  },
  {
   "cell_type": "code",
   "execution_count": 173,
   "metadata": {},
   "outputs": [],
   "source": [
    "# The computer might differentiate two words with the same meaning due to its lowercase and uppercase,\n",
    "# words, here the lowercase is chosen as the standard for all words. \n",
    "\n",
    "words = []\n",
    "\n",
    "for w in X_:\n",
    "    words.append(w.lower())\n",
    "    \n",
    "    \n",
    "data['tokens'] = words"
   ]
  },
  {
   "cell_type": "markdown",
   "metadata": {},
   "source": [
    "# Data Transformation"
   ]
  },
  {
   "cell_type": "code",
   "execution_count": 174,
   "metadata": {},
   "outputs": [
    {
     "data": {
      "text/html": [
       "<div>\n",
       "<style scoped>\n",
       "    .dataframe tbody tr th:only-of-type {\n",
       "        vertical-align: middle;\n",
       "    }\n",
       "\n",
       "    .dataframe tbody tr th {\n",
       "        vertical-align: top;\n",
       "    }\n",
       "\n",
       "    .dataframe thead th {\n",
       "        text-align: right;\n",
       "    }\n",
       "</style>\n",
       "<table border=\"1\" class=\"dataframe\">\n",
       "  <thead>\n",
       "    <tr style=\"text-align: right;\">\n",
       "      <th></th>\n",
       "      <th>Id</th>\n",
       "      <th>Review</th>\n",
       "      <th>Label</th>\n",
       "      <th>tokens</th>\n",
       "    </tr>\n",
       "  </thead>\n",
       "  <tbody>\n",
       "    <tr>\n",
       "      <td>0</td>\n",
       "      <td>0</td>\n",
       "      <td>good and interesting</td>\n",
       "      <td>5</td>\n",
       "      <td>['good', 'and', 'interesting']</td>\n",
       "    </tr>\n",
       "    <tr>\n",
       "      <td>1</td>\n",
       "      <td>1</td>\n",
       "      <td>This class is very helpful to me. Currently, I...</td>\n",
       "      <td>5</td>\n",
       "      <td>['this', 'class', 'is', 'very', 'helpful', 'to...</td>\n",
       "    </tr>\n",
       "    <tr>\n",
       "      <td>2</td>\n",
       "      <td>2</td>\n",
       "      <td>like!Prof and TAs are helpful and the discussi...</td>\n",
       "      <td>5</td>\n",
       "      <td>['like', '!', 'prof', 'and', 'tas', 'are', 'he...</td>\n",
       "    </tr>\n",
       "    <tr>\n",
       "      <td>3</td>\n",
       "      <td>3</td>\n",
       "      <td>Easy to follow and includes a lot basic and im...</td>\n",
       "      <td>5</td>\n",
       "      <td>['easy', 'to', 'follow', 'and', 'includes', 'a...</td>\n",
       "    </tr>\n",
       "    <tr>\n",
       "      <td>4</td>\n",
       "      <td>4</td>\n",
       "      <td>Really nice teacher!I could got the point eazl...</td>\n",
       "      <td>4</td>\n",
       "      <td>['really', 'nice', 'teacher', '!', 'i', 'could...</td>\n",
       "    </tr>\n",
       "  </tbody>\n",
       "</table>\n",
       "</div>"
      ],
      "text/plain": [
       "   Id                                             Review  Label  \\\n",
       "0   0                               good and interesting      5   \n",
       "1   1  This class is very helpful to me. Currently, I...      5   \n",
       "2   2  like!Prof and TAs are helpful and the discussi...      5   \n",
       "3   3  Easy to follow and includes a lot basic and im...      5   \n",
       "4   4  Really nice teacher!I could got the point eazl...      4   \n",
       "\n",
       "                                              tokens  \n",
       "0                     ['good', 'and', 'interesting']  \n",
       "1  ['this', 'class', 'is', 'very', 'helpful', 'to...  \n",
       "2  ['like', '!', 'prof', 'and', 'tas', 'are', 'he...  \n",
       "3  ['easy', 'to', 'follow', 'and', 'includes', 'a...  \n",
       "4  ['really', 'nice', 'teacher', '!', 'i', 'could...  "
      ]
     },
     "execution_count": 174,
     "metadata": {},
     "output_type": "execute_result"
    }
   ],
   "source": [
    "data.head()"
   ]
  },
  {
   "cell_type": "code",
   "execution_count": 175,
   "metadata": {},
   "outputs": [],
   "source": [
    "vec = MultiLabelBinarizer() \n",
    "Xd = vec.fit_transform(data[\"tokens\"]) # Transforming features to 0 and 1\n",
    "Yd = data['Label'] \n",
    "M = np.c_[Xd,Yd] # consolidating the "
   ]
  },
  {
   "cell_type": "code",
   "execution_count": 176,
   "metadata": {},
   "outputs": [
    {
     "data": {
      "text/plain": [
       "(107013, 144)"
      ]
     },
     "execution_count": 176,
     "metadata": {},
     "output_type": "execute_result"
    }
   ],
   "source": [
    "Xd.shape # shape of reviews/tokens "
   ]
  },
  {
   "cell_type": "markdown",
   "metadata": {},
   "source": [
    "After utilizing the MultiLabelBinarizer we see that there are 107013 documents (5 removed due to missing reviews) and 144 unique features(unique words)  "
   ]
  },
  {
   "cell_type": "code",
   "execution_count": 177,
   "metadata": {},
   "outputs": [
    {
     "data": {
      "text/plain": [
       "144"
      ]
     },
     "execution_count": 177,
     "metadata": {},
     "output_type": "execute_result"
    }
   ],
   "source": [
    "vocab = Xd.shape[1] # total number of unique words in the dataset \n",
    "vocab"
   ]
  },
  {
   "cell_type": "markdown",
   "metadata": {},
   "source": [
    "# Cross validation"
   ]
  },
  {
   "cell_type": "code",
   "execution_count": 178,
   "metadata": {},
   "outputs": [],
   "source": [
    "X_train,X_test,y_train,y_test = train_test_split(Xd,Yd, test_size=0.30)"
   ]
  },
  {
   "cell_type": "markdown",
   "metadata": {},
   "source": [
    "# Model training and prediction"
   ]
  },
  {
   "cell_type": "code",
   "execution_count": 179,
   "metadata": {},
   "outputs": [],
   "source": [
    "NB = NaiveBayes_classifer()\n",
    "fit = NB.fit(X_train, y_train)\n",
    "y_pred = fit.predict(X_test)"
   ]
  },
  {
   "cell_type": "markdown",
   "metadata": {},
   "source": [
    "# Model evaluation"
   ]
  },
  {
   "cell_type": "code",
   "execution_count": 218,
   "metadata": {},
   "outputs": [
    {
     "name": "stdout",
     "output_type": "stream",
     "text": [
      "Number of correctly classified samples: 23310\n",
      "Number of incorrectly classified samples: 8794\n",
      "Classification accuracy is: 72.60777473212062 %\n"
     ]
    }
   ],
   "source": [
    "n_correct = (y_test == y_pred).sum()\n",
    "n_incorrect = y_test.size - n_correct\n",
    "incorrect_fraction = n_incorrect /(n_incorrect + n_correct)\n",
    "\n",
    "print(f'Number of correctly classified samples: {n_correct}')\n",
    "print(f\"Number of incorrectly classified samples: {n_incorrect}\")\n",
    "print(f'Classification accuracy is: {(1-incorrect_fraction) * 100} %')"
   ]
  },
  {
   "cell_type": "markdown",
   "metadata": {},
   "source": [
    "# Prediction Cost Estimation"
   ]
  },
  {
   "cell_type": "code",
   "execution_count": 181,
   "metadata": {},
   "outputs": [
    {
     "name": "stdout",
     "output_type": "stream",
     "text": [
      "The error rate for misclassification: 96934.47745455231\n"
     ]
    }
   ],
   "source": [
    "def loss(y,y_i):\n",
    "    return(np.sum(y - np.log(y_i)))\n",
    "\n",
    "cost = loss(y_test, y_pred)\n",
    "print(f'The error rate for misclassification: {cost}')"
   ]
  },
  {
   "cell_type": "markdown",
   "metadata": {},
   "source": [
    "# Sklearn MultinomialNB"
   ]
  },
  {
   "cell_type": "code",
   "execution_count": 198,
   "metadata": {},
   "outputs": [],
   "source": [
    "from sklearn.naive_bayes import MultinomialNB\n",
    "from sklearn.model_selection import cross_val_score"
   ]
  },
  {
   "cell_type": "code",
   "execution_count": 194,
   "metadata": {},
   "outputs": [],
   "source": [
    "Nb = MultinomialNB()\n",
    "fit = Nb.fit(X_train, y_train)\n",
    "pre = fit.predict(X_test)"
   ]
  },
  {
   "cell_type": "code",
   "execution_count": 217,
   "metadata": {},
   "outputs": [
    {
     "name": "stdout",
     "output_type": "stream",
     "text": [
      "Number of correctly classified samples: 23333\n",
      "Number of incorrectly classified samples: 8771\n",
      "Classification accuracy is: 72.67941689509095 %\n"
     ]
    }
   ],
   "source": [
    "n_correct = (y_test == pre).sum()\n",
    "n_incorrect = y_test.size - n_correct\n",
    "incorrect_fraction = n_incorrect /(n_incorrect + n_correct)\n",
    "\n",
    "print(f'Number of correctly classified samples: {n_correct}')\n",
    "print(f\"Number of incorrectly classified samples: {n_incorrect}\")\n",
    "print(f'Classification accuracy is: {(1-incorrect_fraction) * 100} %')"
   ]
  },
  {
   "cell_type": "code",
   "execution_count": 219,
   "metadata": {},
   "outputs": [
    {
     "data": {
      "text/plain": [
       "0.7271453747682972"
      ]
     },
     "execution_count": 219,
     "metadata": {},
     "output_type": "execute_result"
    }
   ],
   "source": [
    "Cross_val = cross_val_score(Nb, Xd, Yd, cv=5)\n",
    "Cross_val.mean()"
   ]
  },
  {
   "cell_type": "code",
   "execution_count": 215,
   "metadata": {},
   "outputs": [
    {
     "data": {
      "text/html": [
       "<div>\n",
       "<style scoped>\n",
       "    .dataframe tbody tr th:only-of-type {\n",
       "        vertical-align: middle;\n",
       "    }\n",
       "\n",
       "    .dataframe tbody tr th {\n",
       "        vertical-align: top;\n",
       "    }\n",
       "\n",
       "    .dataframe thead th {\n",
       "        text-align: right;\n",
       "    }\n",
       "</style>\n",
       "<table border=\"1\" class=\"dataframe\">\n",
       "  <thead>\n",
       "    <tr style=\"text-align: right;\">\n",
       "      <th></th>\n",
       "      <th>Folds</th>\n",
       "      <th>Accuracy</th>\n",
       "    </tr>\n",
       "  </thead>\n",
       "  <tbody>\n",
       "    <tr>\n",
       "      <td>0</td>\n",
       "      <td>fold 1</td>\n",
       "      <td>0.726092</td>\n",
       "    </tr>\n",
       "    <tr>\n",
       "      <td>1</td>\n",
       "      <td>fold 2</td>\n",
       "      <td>0.729758</td>\n",
       "    </tr>\n",
       "    <tr>\n",
       "      <td>2</td>\n",
       "      <td>fold 3</td>\n",
       "      <td>0.724665</td>\n",
       "    </tr>\n",
       "    <tr>\n",
       "      <td>3</td>\n",
       "      <td>fold 4</td>\n",
       "      <td>0.725586</td>\n",
       "    </tr>\n",
       "    <tr>\n",
       "      <td>4</td>\n",
       "      <td>fold 5</td>\n",
       "      <td>0.729626</td>\n",
       "    </tr>\n",
       "  </tbody>\n",
       "</table>\n",
       "</div>"
      ],
      "text/plain": [
       "    Folds  Accuracy\n",
       "0  fold 1  0.726092\n",
       "1  fold 2  0.729758\n",
       "2  fold 3  0.724665\n",
       "3  fold 4  0.725586\n",
       "4  fold 5  0.729626"
      ]
     },
     "execution_count": 215,
     "metadata": {},
     "output_type": "execute_result"
    }
   ],
   "source": [
    "pd.DataFrame({\n",
    "    'Folds':['fold 1','fold 2','fold 3','fold 4','fold 5'],\n",
    "    'Accuracy':Cross_val})"
   ]
  },
  {
   "cell_type": "code",
   "execution_count": null,
   "metadata": {},
   "outputs": [],
   "source": []
  }
 ],
 "metadata": {
  "kernelspec": {
   "display_name": "Python 3",
   "language": "python",
   "name": "python3"
  },
  "language_info": {
   "codemirror_mode": {
    "name": "ipython",
    "version": 3
   },
   "file_extension": ".py",
   "mimetype": "text/x-python",
   "name": "python",
   "nbconvert_exporter": "python",
   "pygments_lexer": "ipython3",
   "version": "3.7.4"
  }
 },
 "nbformat": 4,
 "nbformat_minor": 2
}
